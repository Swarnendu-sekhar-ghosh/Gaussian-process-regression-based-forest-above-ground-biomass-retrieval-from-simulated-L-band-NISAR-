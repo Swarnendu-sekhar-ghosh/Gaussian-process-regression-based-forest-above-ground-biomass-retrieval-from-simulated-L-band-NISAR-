{
  "nbformat": 4,
  "nbformat_minor": 0,
  "metadata": {
    "colab": {
      "name": "UAVSAR_Simulated_NISAR_Forest_Data_Splitting",
      "provenance": [],
      "collapsed_sections": []
    },
    "kernelspec": {
      "name": "python3",
      "display_name": "Python 3"
    },
    "language_info": {
      "name": "python"
    }
  },
  "cells": [
    {
      "cell_type": "markdown",
      "source": [
        "# STRATIFIED SAMPLING OF FOREST DATA\n",
        "\n",
        "Stratified sampling is done to generate training and test data from different forest types. For the curent work we are considering the full-pol data obtained from the UAVSAR simulated NISAR L-band data. At first we have segregated the entire forest data consisting height and biomass measurements from three forest types. These are namely Deciduous forest (41), Evergreen forest (42) and Mixed forest (43). Then, data of each of the three forest types are split into 80% training and 20% testing dataset. This splitting is random in nature. What we will try to do is after the splitting of the datasets are done we will try to keep the min and max of the target biophysical parameters (Forest Height [FH] and above Ground Biomass [AGB]) in the training dataset, to avoid the issue of extrapolation.   \n",
        "\n"
      ],
      "metadata": {
        "id": "Nu3IoWrPRcT6"
      }
    },
    {
      "cell_type": "code",
      "source": [
        "import pandas as pd\n",
        "\n",
        "from sklearn.model_selection import train_test_split\n",
        "\n",
        "from google.colab import drive\n",
        "drive.mount('/content/drive/')"
      ],
      "metadata": {
        "colab": {
          "base_uri": "https://localhost:8080/"
        },
        "id": "JSN-gaXJRl9R",
        "outputId": "f497918b-7420-4cae-c6bf-20e597b489d5"
      },
      "execution_count": 7,
      "outputs": [
        {
          "output_type": "stream",
          "name": "stdout",
          "text": [
            "Drive already mounted at /content/drive/; to attempt to forcibly remount, call drive.mount(\"/content/drive/\", force_remount=True).\n"
          ]
        }
      ]
    },
    {
      "cell_type": "markdown",
      "source": [
        "## DECIDUOUS FOREST"
      ],
      "metadata": {
        "id": "zI1vkywdakmO"
      }
    },
    {
      "cell_type": "code",
      "source": [
        "data1= pd.read_excel(\"/content/drive/MyDrive/UAVSAR_simulated_NISAR_2019_Forest/DATA/Deciduous/Deciduous_Forest.xlsx\")"
      ],
      "metadata": {
        "id": "VVOau0FPaa-R"
      },
      "execution_count": 16,
      "outputs": []
    },
    {
      "cell_type": "code",
      "source": [
        "Train_data1, Test_data1 = train_test_split(data1, test_size=0.20, random_state=0)"
      ],
      "metadata": {
        "id": "UH0TjHEaaxY-"
      },
      "execution_count": 17,
      "outputs": []
    },
    {
      "cell_type": "code",
      "source": [
        "Train_data1.to_csv(\"/content/drive/MyDrive/UAVSAR_simulated_NISAR_2019_Forest/DATA/Deciduous/Deciduous_TRAIN_DATA.csv\", index=False)\n",
        "\n",
        "Test_data1.to_csv(\"/content/drive/MyDrive/UAVSAR_simulated_NISAR_2019_Forest/DATA/Deciduous/Deciduous_TEST_DATA.csv\",index=False)\n"
      ],
      "metadata": {
        "id": "1A0sjQV8b433"
      },
      "execution_count": 18,
      "outputs": []
    },
    {
      "cell_type": "markdown",
      "source": [
        "# EVERGREEN FOREST"
      ],
      "metadata": {
        "id": "5cPO5Xq4mWyy"
      }
    },
    {
      "cell_type": "code",
      "source": [
        "data2=pd.read_excel(\"/content/drive/MyDrive/UAVSAR_simulated_NISAR_2019_Forest/DATA/Evergreen/Evergreen_Forest.xlsx\")"
      ],
      "metadata": {
        "id": "u5v7n9obmNG0"
      },
      "execution_count": 19,
      "outputs": []
    },
    {
      "cell_type": "code",
      "source": [
        "Train_data2, Test_data2 = train_test_split(data2, test_size=0.20, random_state=0)"
      ],
      "metadata": {
        "id": "kbd3ALEQmoPR"
      },
      "execution_count": 20,
      "outputs": []
    },
    {
      "cell_type": "code",
      "source": [
        "Train_data2.to_csv(\"/content/drive/MyDrive/UAVSAR_simulated_NISAR_2019_Forest/DATA/Evergreen/Evergreen_TRAIN_DATA.csv\", index=False)\n",
        "\n",
        "Test_data2.to_csv(\"/content/drive/MyDrive/UAVSAR_simulated_NISAR_2019_Forest/DATA/Evergreen/Evergreen_TEST_DATA.csv\",index=False)\n"
      ],
      "metadata": {
        "id": "OCIjuGhMmteQ"
      },
      "execution_count": 21,
      "outputs": []
    },
    {
      "cell_type": "markdown",
      "source": [
        "# MIXED FOREST"
      ],
      "metadata": {
        "id": "JN3wHMbznB4D"
      }
    },
    {
      "cell_type": "code",
      "source": [
        "data3=pd.read_excel(\"/content/drive/MyDrive/UAVSAR_simulated_NISAR_2019_Forest/DATA/Mixed/Mixed_Forest.xlsx\") "
      ],
      "metadata": {
        "id": "wscyfBXRnFR6"
      },
      "execution_count": 22,
      "outputs": []
    },
    {
      "cell_type": "code",
      "source": [
        "Train_data3, Test_data3 = train_test_split(data3, test_size=0.20, random_state=0)"
      ],
      "metadata": {
        "id": "qhkr6gOypcg0"
      },
      "execution_count": 23,
      "outputs": []
    },
    {
      "cell_type": "code",
      "source": [
        "Train_data3.to_csv(\"/content/drive/MyDrive/UAVSAR_simulated_NISAR_2019_Forest/DATA/Mixed/Mixed_TRAIN_DATA.csv\", index=False)\n",
        "\n",
        "Test_data3.to_csv(\"/content/drive/MyDrive/UAVSAR_simulated_NISAR_2019_Forest/DATA/Mixed/Mixed_TEST_DATA.csv\",index=False) \n"
      ],
      "metadata": {
        "id": "4iOcZy0mqDd5"
      },
      "execution_count": 24,
      "outputs": []
    }
  ]
}